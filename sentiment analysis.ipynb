{
 "cells": [
  {
   "cell_type": "code",
   "execution_count": 1,
   "id": "160237bc",
   "metadata": {},
   "outputs": [],
   "source": [
    "# import libraries\n",
    "import pandas as pd\n",
    "df = pd.read_excel(\"digitale wereld submap.xlsx\")\n",
    "import re\n",
    "\n",
    "import nltk\n",
    "from nltk.sentiment.vader import SentimentIntensityAnalyzer\n",
    "from nltk.corpus import stopwords\n",
    "from nltk.tokenize import word_tokenize\n",
    "from nltk.stem import WordNetLemmatizer\n",
    "\n",
    "from vaderSentiment.vaderSentiment import SentimentIntensityAnalyzer\n",
    "from deep_translator import GoogleTranslator"
   ]
  },
  {
   "cell_type": "code",
   "execution_count": 2,
   "id": "90c9ee62",
   "metadata": {},
   "outputs": [
    {
     "name": "stdout",
     "output_type": "stream",
     "text": [
      "Index(['@digitaal_emoji', '@digitaal_watgaatergoed_categorie',\n",
      "       '@digitaal_watgaatergoedd', '@digitaal_watkanerbeter_categorie',\n",
      "       '@digitaal_watkanerbeter_extracategorie', '@digitaal_watkanerbeterr'],\n",
      "      dtype='object')\n"
     ]
    }
   ],
   "source": [
    "print(df.columns)"
   ]
  },
  {
   "cell_type": "code",
   "execution_count": 3,
   "id": "eb3123bd",
   "metadata": {},
   "outputs": [
    {
     "data": {
      "text/html": [
       "<div>\n",
       "<style scoped>\n",
       "    .dataframe tbody tr th:only-of-type {\n",
       "        vertical-align: middle;\n",
       "    }\n",
       "\n",
       "    .dataframe tbody tr th {\n",
       "        vertical-align: top;\n",
       "    }\n",
       "\n",
       "    .dataframe thead th {\n",
       "        text-align: right;\n",
       "    }\n",
       "</style>\n",
       "<table border=\"1\" class=\"dataframe\">\n",
       "  <thead>\n",
       "    <tr style=\"text-align: right;\">\n",
       "      <th></th>\n",
       "      <th>@digitaal_emoji</th>\n",
       "      <th>@digitaal_watgaatergoed_categorie</th>\n",
       "      <th>@digitaal_watgaatergoedd</th>\n",
       "      <th>@digitaal_watkanerbeter_categorie</th>\n",
       "      <th>@digitaal_watkanerbeterr</th>\n",
       "    </tr>\n",
       "  </thead>\n",
       "  <tbody>\n",
       "    <tr>\n",
       "      <th>0</th>\n",
       "      <td>😐</td>\n",
       "      <td>['Verbinding en contact']</td>\n",
       "      <td>Veel mogelijkheden ook voor contact met mensen...</td>\n",
       "      <td>['Mentale gezondheid ', 'Verslaving']</td>\n",
       "      <td>Ik vind dat het afgeschaft moet worden.</td>\n",
       "    </tr>\n",
       "    <tr>\n",
       "      <th>1</th>\n",
       "      <td>😐</td>\n",
       "      <td>['Sociale media', 'Verbinding en contact', 'Sn...</td>\n",
       "      <td>in NL overal prima goed bereikbaar, we kunnen ...</td>\n",
       "      <td>['Sociale media', 'Veiligheid', 'Verslaving', ...</td>\n",
       "      <td>schadelijke kant en negatieve effecten van soc...</td>\n",
       "    </tr>\n",
       "    <tr>\n",
       "      <th>2</th>\n",
       "      <td>😡</td>\n",
       "      <td>['Toegankelijkheid', 'Anders, namelijk...']</td>\n",
       "      <td>Dat er de laatste jaren meer restricties zijn ...</td>\n",
       "      <td>['Verslaving', 'Leeftijd', 'Invloed', 'Mentale...</td>\n",
       "      <td>Heel veel, het internet neemt mensen nu over. ...</td>\n",
       "    </tr>\n",
       "    <tr>\n",
       "      <th>3</th>\n",
       "      <td>😐</td>\n",
       "      <td>['Toegang tot kennis en informatie', 'Verbindi...</td>\n",
       "      <td>Kennis die je snel hebt waardoor je veel kan l...</td>\n",
       "      <td>['Invloed', 'Nepnieuws/ Desinformatie', 'Priva...</td>\n",
       "      <td>Het is teveel verslavend en er staan teveel nu...</td>\n",
       "    </tr>\n",
       "    <tr>\n",
       "      <th>6</th>\n",
       "      <td>😡</td>\n",
       "      <td>['Bewustzijn', 'Sociale media', 'Toegang tot k...</td>\n",
       "      <td>De mogelijkheid om te kunnen communiceren, spe...</td>\n",
       "      <td>['Bewustzijn', 'Privacy', 'Toegankelijkheid', ...</td>\n",
       "      <td>Er is veel media die bepaalde doelgroepen of m...</td>\n",
       "    </tr>\n",
       "  </tbody>\n",
       "</table>\n",
       "</div>"
      ],
      "text/plain": [
       "  @digitaal_emoji                  @digitaal_watgaatergoed_categorie  \\\n",
       "0               😐                          ['Verbinding en contact']   \n",
       "1               😐  ['Sociale media', 'Verbinding en contact', 'Sn...   \n",
       "2               😡        ['Toegankelijkheid', 'Anders, namelijk...']   \n",
       "3               😐  ['Toegang tot kennis en informatie', 'Verbindi...   \n",
       "6               😡  ['Bewustzijn', 'Sociale media', 'Toegang tot k...   \n",
       "\n",
       "                            @digitaal_watgaatergoedd  \\\n",
       "0  Veel mogelijkheden ook voor contact met mensen...   \n",
       "1  in NL overal prima goed bereikbaar, we kunnen ...   \n",
       "2  Dat er de laatste jaren meer restricties zijn ...   \n",
       "3  Kennis die je snel hebt waardoor je veel kan l...   \n",
       "6  De mogelijkheid om te kunnen communiceren, spe...   \n",
       "\n",
       "                   @digitaal_watkanerbeter_categorie  \\\n",
       "0              ['Mentale gezondheid ', 'Verslaving']   \n",
       "1  ['Sociale media', 'Veiligheid', 'Verslaving', ...   \n",
       "2  ['Verslaving', 'Leeftijd', 'Invloed', 'Mentale...   \n",
       "3  ['Invloed', 'Nepnieuws/ Desinformatie', 'Priva...   \n",
       "6  ['Bewustzijn', 'Privacy', 'Toegankelijkheid', ...   \n",
       "\n",
       "                            @digitaal_watkanerbeterr  \n",
       "0           Ik vind dat het afgeschaft moet worden.   \n",
       "1  schadelijke kant en negatieve effecten van soc...  \n",
       "2  Heel veel, het internet neemt mensen nu over. ...  \n",
       "3  Het is teveel verslavend en er staan teveel nu...  \n",
       "6  Er is veel media die bepaalde doelgroepen of m...  "
      ]
     },
     "execution_count": 3,
     "metadata": {},
     "output_type": "execute_result"
    }
   ],
   "source": [
    "df = df.drop(['@digitaal_watkanerbeter_extracategorie'], axis =1)\n",
    "df = df.dropna()\n",
    "\n",
    "df.head()"
   ]
  },
  {
   "cell_type": "code",
   "execution_count": 69,
   "id": "92dac945",
   "metadata": {},
   "outputs": [
    {
     "name": "stdout",
     "output_type": "stream",
     "text": [
      "{'original': 'Ik haat dit product, het is geweldig!', 'translated': \"I hate this product, it's great!\", 'sentiment': 'Positive', 'scores': {'neg': 0.306, 'neu': 0.331, 'pos': 0.363, 'compound': 0.1759}}\n"
     ]
    }
   ],
   "source": [
    "def analyze_dutch_sentiment(dutch_sentence):\n",
    "    if not re.search(r'[a-zA-Z]', dutch_sentence):\n",
    "        return {\n",
    "            'original': dutch_sentence,\n",
    "            'translated': None,\n",
    "            'sentiment': 'Invalid - No words',\n",
    "            'scores': None\n",
    "        }\n",
    "    # Step 1: Translate Dutch to English\n",
    "    english_sentence = GoogleTranslator(source='nl', target='en').translate(dutch_sentence)\n",
    "\n",
    "    # Step 2: Analyze sentiment with VADER\n",
    "    analyzer = SentimentIntensityAnalyzer()\n",
    "    sentiment_scores = analyzer.polarity_scores(english_sentence)\n",
    "\n",
    "    # Step 3: Classify based on compound score\n",
    "    compound = sentiment_scores['compound']\n",
    "    if compound >= 0.1:\n",
    "        sentiment = 'Positive'\n",
    "    elif compound <= 0.1:\n",
    "        sentiment = 'Negative'\n",
    "\n",
    "    return {\n",
    "        'original': dutch_sentence,\n",
    "        'translated': english_sentence,\n",
    "        'sentiment': sentiment,\n",
    "        'scores': sentiment_scores\n",
    "    }\n",
    "\n",
    "# Example\n",
    "result = analyze_dutch_sentiment(\"Ik haat dit product, het is geweldig!\")\n",
    "print(result)\n"
   ]
  },
  {
   "cell_type": "code",
   "execution_count": 18,
   "id": "6496de03",
   "metadata": {},
   "outputs": [
    {
     "name": "stdout",
     "output_type": "stream",
     "text": [
      "Neutral Veel mogelijkheden ook voor contact met mensen ver weg\n",
      "Positive in NL overal prima goed bereikbaar, we kunnen werken overal vandaan, ik kan eenvoudig met iedereen in contact blijven\n",
      "Neutral Dat er de laatste jaren meer restricties zijn voor jonge mensen. _x000D_\n",
      "\n",
      "Neutral Kennis die je snel hebt waardoor je veel kan leren. Verbinding ondanks lange afstanden\n",
      "Positive De mogelijkheid om te kunnen communiceren, spelen, dingen online te delen etc. met anderen over de hele wereld dankzij de technologie is positief.\n",
      "Negative Het verbindt mensen met elkaar ook degene die normaal niet naar buiten kunnen vanwege hun medische/ phygische situatie en geeft hen een platform om toch zich te verbinden of een plek te vinden waar ze hun geld mee kunnen verdienen (kijk naar ironmouse, de jongen van world of war craft etc.)\n",
      "Positive Ik vind het fijn dat je zo makkelijk andere mensen kan bereiken\n",
      "Neutral Door ontwikkelingen in de digitale wereld, kunnen mensen steeds eenvoudiger met elkaar in contact blijven, denk bijvoorbeeld aan coronatijd. Veel scholen hebben via zoom/teams toch nog redelijk les kunnen geven en leerlingen hebben veel onderling contact kunnen houden.\n",
      "Neutral Dat gegevens meestal privé blijven\n",
      "Positive Er is veel dat goed gaat boven de ogen van de mens. Zo helpt data verzameling van Geo-data bij het helpen van bemachtiging over verscheidene data, handig voor het dagelijks leven. \n",
      "Neutral Handig\n",
      "Neutral Ik heb erdoor veel nieuwe dingen geleerd en tradities en mensen uit andere landen. Ik had nooit engels geleerd als ik dat niet had._x000D_\n",
      "\n",
      "Neutral Snapchat,insta tiktok\n",
      "Neutral Toegankelijkheid.\n",
      "Negative Veel haat, nonsense, brainrot, ai slop etc\n",
      "Negative Dat sommige mensen zich misschien minder alleen voelen. Of dat je ook dingen kunt googlen op opzoeken die je misschien niet aan je directe omgeving kunt vragen._x000D_\n",
      "\n",
      "Neutral Dat er een groot aanbod is om jezelf te kunnen ontwikkelen. \n",
      "Neutral Dat je snel tot je informatie kunt komen \n",
      "Neutral Dat er wordt voorkomen op veel apps dat mensen die je niet kent zomaar kunnen contacteren \n",
      "Positive Ik ben tevreden over sociale media \n",
      "Negative Nee er word veel online gepest, en vaak blijft dit anoniem en kun je de daders niet pakken. Ook spelen kinderen veel minder buiten door technologie\n",
      "Positive Je kan goede vrienden maken en goede connecties hebben op het internet waardoor je je thuis kan voelen in je eigen digitale community \n",
      "Neutral over bijna alles\n",
      "Neutral Je kan met mensen over bijna de hele wereld een connectie krijgen en je eigen community bouwen.\n",
      "Neutral Dat we verbonden kunnen zijn met de mensheid\n",
      "Positive Makkelijk contact zoeken met anderen \n",
      "Neutral Je kunt veel nieuwe mensen leren kennen en contacten behouden\n",
      "Positive Er is veel te vinden online, ook veel behulpzame of leerzame informatie. Denk aan organisaties die zich online uitbreiden om hun jonge doelgroep beter te bereiken zoals Sense, Jong&Out maar ook vele anderen\n",
      "Positive Mensen komen makkelijker in contact te elkaat\n",
      "Positive In de digitale wereld gaat er veel goed, vooral op het gebied van communicatie en toegang tot informatie. Mensen kunnen wereldwijd snel met elkaar in contact komen, ongeacht locatie, en hebben toegang tot een enorme hoeveelheid kennis via het internet. Ook onderwijs is toegankelijker geworden door online platforms, wat kansen biedt voor mensen die anders mogelijk geen toegang zouden hebben tot traditioneel onderwijs. Daarnaast zijn er steeds meer tools voor samenwerking op afstand, wat werk en samenwerking efficiënter maakt.\n",
      "Positive We kunnen met iedereen in contact zijn, dus ik heb ook veel vrienden in het buitenland.\n",
      "Positive Het is een manier om te verbinden en ook positieve boodschappen de wereld in te helpen\n",
      "Positive Kan gemakkelijk vanuit thuis geregeld worden wanneer afstand te ver is.\n",
      "Positive Werken, communities, en leren online zijn erg behulpzaam\n",
      "Neutral Alles\n",
      "Neutral Er is veel info te vinden waardoor er ook bijvoorbeeld meer verbinding en representatie is\n",
      "Positive De wereld ligt aan onze voeten: op het internet vinden we kennis, en vermaak en komen we in contact met anderen. Ik denk dat mooi en goed is, maar ook veel risico's met zich meebrengt omdat het bepaalde kwetsbaarheid creëert.\n",
      "Positive Ik vind het goed dat mensen van over de hele wereld elkaar kunnen inspireren.\n",
      "Negative Ik vind het leuk dat je op sociale media, jezelf kan zijn en met anderen in contact komen, maar tegelijkertijd maakt het jongeren ook onzeker \n",
      "Neutral Chatgpt\n",
      "Positive Het is handig en makkelijk en je kunt er snel dingen mee regelen.\n",
      "Neutral niks\n",
      "Positive Een positieve kant van de digitale wereld is de toegankelijkheid van informatie\n",
      "Neutral Contact met anderen, zelfs mensen die je anders nooit zou ontmoeten leer je kennen door social media.\n",
      "Neutral Je leert veel omgaan met de technologie \n",
      "Positive Veel leuke inspiratie\n",
      "Positive Ik vind dat het goed toegankelijk word gemaakt in Nederland. \n",
      "Positive De digitale wereld geeft veel mogelijkheden op verbinding, zoals bij mentale gezondheid of samenwerken\n",
      "Neutral Het verbindt mensen, mits het goed gebruikt wordt\n",
      "Neutral Het wereldwijde, de snelheid en de makkelikkheid.\n",
      "Positive Verbintenis met mensen over de hele wereld. Hobby's doen. \n",
      "Neutral Het is handig, je hebt het overal voor nodig, het is toegankelijk\n",
      "Positive Het kunnen communiceren, chatgbt en inspiratie krijgen \n",
      "Positive De digitale wereld maakt gelijkheid meer mogelijk iedereen kan gemeenschap vinden en nieuwe dingen leren was nog nooit zo makkelijk \n",
      "Positive Goed dat je alles kan opzoeken wat je zelf wil\n",
      "Negative Er zijn steeds meer dingen mogelijk. Maar zorgt ook dat mensen elkaar minder begrijpen en verkeerde dingen meekrijgen \n",
      "Neutral Je kan alles leren en opzoeken online. Het informatieplatform wordt steeds maar groter\n",
      "Negative Gepest over sociale media \n",
      "Negative Dat AI gedoe is gek. Vind echt gek dat technologie zo ver gaat met AI.\n",
      "Neutral De mogelijkheden tot wereldwijde contacten. _x000D_\n",
      "\n",
      "Positive Dat we elkaar snel aan informatie kunnen helpen\n",
      "Negative In de digitale wereld zijn er zeker positieve dingen, maar veel mensen zijn te veel online, wat negatieve effecten heeft op hun gedachten en mentale gezondheid. Het constant scrollen door sociale media kan leiden tot onzekerheid en een slecht zelfbeeld. Daarnaast kan overmatig online zijn persoonlijke relaties kleineren en de diepgang van sociale interacties verminderen. \n",
      "Neutral De bereikbaarheid van mensen.\n",
      "Positive Het is makkelijk dat je veel online kan werken. Dit helpt ook voor mensen met een beperking om te werken. Ook kan je op het internet goed ervaringsverhalen en inspiratie vinden\n",
      "Neutral Je kunt nieuwe mensen ontmoeten etc\n",
      "Positive Nederland weet snel te innoveren en mee te gaan op trends rondom digitalisering. We zijn ons bewust van de uitdaging die digitalisering met zich meebrengt\n",
      "Positive Een mooie reflectie van allerlei ideeën, het catered naar iedereen! \n",
      "Positive Ik vind dat we goede regels opstellen als het gaat om tech giganten. Dit kan echter nog beter vind ik.\n",
      "Positive Het is goed hoe iedereen verbonden is en er nieuwe hobbies ontstaan vanuit de digitale wereld maar het is ook schadelijk dat mensen zich zorgen maken over dingen die niet in hun directe omgeving gebeuren \n",
      "Neutral Het bewustwording van maatschappelijke kwesties \n",
      "Positive Veel info beschikbaar over hoe we met elkaar omgaan\n",
      "Neutral Communicatie met anderen\n",
      "Positive Het is makkelijk om in contact te blijven met mensen\n",
      "Positive Het maakt alles wat meer binnen hand berijk en de vriendschappen die je er op kunt krijgen zijn soms even veel waard als vrienden buiten het internet \n",
      "Positive De vooruitgang in technologusche ontwikkeling en divitale entertainment zoals voornamelijk games\n",
      "Positive Er kan veel worden geleerd van en door elkaar door midden van de digite wereld. Scholen maken goed gebruik hiervan.\n",
      "Negative Misschien ook een keerzijde, maar veel informatie te vinden\n",
      "Positive Snel, toegankelijk. Makkelijk. Voor elk \"probleem\" is er wel een digitale oplossing\n",
      "Positive Ik vind het mooi hoe je kan connecten met mensen buiten je eigen bubbel.\n",
      "Positive Makkelijk communiceren\n",
      "Positive Ik praat al jaren met vrienden online van over de hele wereld. De emotionele verbinding is net zo echt als met de vrienden met wie ik in het weekend kan afspreken. Veel mensen snappen dit niet, maar dat komt omdat het een ander soort sociale interactie is die je gewoon moet oefenen, net zoals het leren vriendjes maken op het schoolplein. Als je dat eenmaal onder de knie hebt kun je zo heel waardevolle relaties opbouwen._x000D_\n",
      "_x000D_\n",
      "Ook vind je online veel meer informatie dan in een encyclopedie in de bieb. Omdat je met meerdere bronnen werkt kun je leren om kritischer na te denken en leer je snel desinformatie te herkennen, al blijkt helaas in de praktijk dat veel mensen daar geen kaas van hebben gegeten._x000D_\n",
      "_x000D_\n",
      "Voor mensen met een mentale of fysieke beperking maakt het internet het makkelijker voor hen om mee te draaien in de maatschappij. Als mijn bedrijf geen goede thuiswerkregeling had gehad, had ik daar niet kunnen blijven werken, terwijl het nu fantastisch gaat.\n"
     ]
    },
    {
     "name": "stdout",
     "output_type": "stream",
     "text": [
      "Positive Ik vind het fijn dat de digitale wereld er voor zorgt dat meer dingen geautomatiseerd worden en daarmee efficiënter en gemakkelijker toegankelijk \n",
      "Neutral hi\n",
      "Neutral Mogelijkheden om contact te hebben met mensen overal en altijd\n",
      "Neutral de mogelijkheid dat t r is_x000D_\n",
      "\n",
      "Positive Het is super handig dat je snel informatie kan vinden op internet oid. En snel kan communiceren met je netwerk \n"
     ]
    }
   ],
   "source": [
    "for e in df['@digitaal_watgaatergoedd'].to_list():\n",
    "    print(analyze_dutch_sentiment(e)['sentiment'], e)"
   ]
  },
  {
   "cell_type": "code",
   "execution_count": 40,
   "id": "de0feb5f",
   "metadata": {},
   "outputs": [
    {
     "name": "stderr",
     "output_type": "stream",
     "text": [
      "Some weights of RobertaForSequenceClassification were not initialized from the model checkpoint at pdelobelle/robbert-v2-dutch-base and are newly initialized: ['classifier.dense.bias', 'classifier.dense.weight', 'classifier.out_proj.bias', 'classifier.out_proj.weight']\n",
      "You should probably TRAIN this model on a down-stream task to be able to use it for predictions and inference.\n"
     ]
    }
   ],
   "source": [
    "from transformers import AutoTokenizer, AutoModelForSequenceClassification\n",
    "import torch\n",
    "import torch.nn.functional as F\n",
    "\n",
    "# Load tokenizer and model\n",
    "model_name = \"pdelobelle/robbert-v2-dutch-base\"\n",
    "tokenizer = AutoTokenizer.from_pretrained(model_name)\n",
    "model = AutoModelForSequenceClassification.from_pretrained(\n",
    "    \"pdelobelle/robbert-v2-dutch-base\", num_labels=2\n",
    ")\n",
    "\n",
    "# Label mapping based on the fine-tuned RobBERT classifier\n",
    "labels = [\"negatief\", \"positief\"]"
   ]
  },
  {
   "cell_type": "code",
   "execution_count": 60,
   "id": "852cd66e",
   "metadata": {},
   "outputs": [
    {
     "name": "stdout",
     "output_type": "stream",
     "text": [
      "Heel erg handig\n",
      "{'sentence': 'Heel erg handig', 'sentiment': 'positief', 'probabilities': {'negatief': 0.4169086813926697, 'positief': 0.5830913186073303}}\n"
     ]
    }
   ],
   "source": [
    "def analyze_sentiment_robbert(dutch_sentence):\n",
    "    # Tokenize input\n",
    "    inputs = tokenizer(dutch_sentence, return_tensors=\"pt\", truncation=True, padding=True)\n",
    "    \n",
    "    # Get model output\n",
    "    with torch.no_grad():\n",
    "        outputs = model(**inputs)\n",
    "        \n",
    "    # Compute probabilities\n",
    "    probs = F.softmax(outputs.logits, dim=1)[0]\n",
    "    \n",
    "    # Get sentiment\n",
    "    sentiment_idx = torch.argmax(probs).item()\n",
    "    sentiment = labels[sentiment_idx]\n",
    "    \n",
    "    return {\n",
    "        \"sentence\": dutch_sentence,\n",
    "        \"sentiment\": sentiment,\n",
    "        \"probabilities\": {labels[i]: float(probs[i]) for i in range(len(labels))}\n",
    "    }\n",
    "\n",
    "# Example\n",
    "print(analyze_sentiment_robbert(\"Heel erg handig\"))\n"
   ]
  },
  {
   "cell_type": "code",
   "execution_count": 46,
   "id": "667c28bb",
   "metadata": {},
   "outputs": [
    {
     "name": "stdout",
     "output_type": "stream",
     "text": [
      "This one is negative\n",
      "negatief Chatgpt\n",
      "This one is negative\n",
      "negatief Gepest over sociale media \n"
     ]
    }
   ],
   "source": [
    "for e in df['@digitaal_watgaatergoedd'].to_list():\n",
    "    if analyze_sentiment_robbert(e)['sentiment'] == 'negatief':\n",
    "        print(analyze_sentiment_robbert(e)['sentiment'], e)\n"
   ]
  },
  {
   "cell_type": "code",
   "execution_count": 75,
   "id": "d8dec85c",
   "metadata": {},
   "outputs": [
    {
     "name": "stdout",
     "output_type": "stream",
     "text": [
      "Positive Heel veel, het internet neemt mensen nu over. Mensen kunnen er niet meer zonder en worden er enorm door beïnvloed. Er wordt wel gezegd dat mensen zo fantastisch zijn en zoveel kunnen, maar die zelfde mensen zijn verslaafd aan hulpmiddelen van het internet en zijn zelf steeds minder creatief._x000D_\n",
      "_x000D_\n",
      "Wij hechten TE veel waarde aan het internet. Dit moet echt veranderen, want met de generatie worden kinderen minder intelligent. \n",
      "Positive Privacy, en de 'cancel cultuur', zomaar mensen hun leven kunnen verpesten omdat iemand iets fout gedaan zou hebben soms is het terecht maar niet altijd, het is namelijk moeilijk om te vinden wat wel echt waar is en wat niet. Iedereen kan zeggen en doen wat ze willen, dit gaat soms wel te ver. Ik ben voor vrijheid van meningsuiting maar niet ten koste van andere. \n",
      "Positive Veiligheid\n",
      "Positive Er moet veel meer gelet worden wat onder de normale gebruiker loopt. Zo zijn er verschijdene apps die onder de ijsberg veel illegale dingen doen, het is belangrijk juist dit soort dingen op te lossen. Maar ja, dit blijft nog onoplosbaar\n",
      "Positive Veiligheid. Vooral bij kinderen online._x000D_\n",
      "\n",
      "Positive Veiligheid, vooral wanneer het gaat om privacy en hoe vooral jonge kinderen met het internet omgaan. Ik vind dat je pas vanaf 12 jaar pas een telefoon zou moeten hebben die op het Internet kan\n",
      "Positive Ik vind dat jongeren bewuster moeten zijn van de gevaren. Ook vind ik ai wel spannend, hoe snel het is gekomen en hoe slim het nu al is... verder is het voor mensen verslavend en zouden mensen vaker hun telefoon neer moeten leggen\n",
      "Positive In de digitale wereld zou er meer aandacht moeten zijn voor privacy en veiligheid, zodat persoonlijke gegevens beter beschermd worden. Ook moet er meer gedaan worden om digitale ongelijkheid te verminderen, zodat iedereen toegang heeft tot de technologie die nodig is voor werk, onderwijs en communicatie. Verder is het belangrijk om desinformatie en haatzaaien tegen te gaan, door meer controle en verantwoordelijkheid te leggen bij platformen en gebruikers.\n",
      "Positive We moeten vooral beter beschermd worden voor AI en zorgen dat de media meer naar waarheid wordt. fake news is echt een groot probleem en kan jongeren negatief beïnvloeden. Daarnaast is het te kapitalistische en zie je nu amper nog je vrienden familie op bijvoorbeeld Instagram voorbijkomen. Het is niet meer gericht op sociaal contact maar puur op geld verdienen met bedrijven etc.\n",
      "Positive Generatieve AI is overal, en algorithmes duwen iedereen een bepaalde kant op\n",
      "Positive Meer duidelijkheid over welke gegevens je deelt\n",
      "Positive Meer veiligheid inzicht en privacy \n",
      "Positive Haat wordt gemakkelijker en acceptabeler online, dit moet veranderen\n",
      "Positive Goed onderwijs op het gebied van de digitale wereld. Onderwijzers hebben vaak geen idee wat hun leerlingen online doen.\n",
      "Positive Meer maatregelen dat kinderen geen ‘slechte dingen’ te zien krijgen. Een leeftijdsgrens, meer controle op pedofielen etc.\n",
      "Positive Veel strengere handhaving op leeftijdsgrens sociale media en die leeftijd flink omhoog! 18+_x000D_\n",
      "EU moet iets doen tegen censuur van onderwerpen, maar wel betere handhaving op radicaliserende en opruiende content \n",
      "Positive Ik vind dat EU veel meer moet investeren in AI. China, de VS en het VK doen het ook. Alleen Europa is degene die niets of bijna niets daarin investeert. Willen wij verder innoveren en op het wereldtoneel blijven dan moet er veel meer geïnvesteerd worden in AI. Dit is ook van belang voor onze veiligheid. Zo kunnen we namelijk ook AI implementeren in onze maatschappij voor bijvoorbeeld de politie.\n",
      "Positive Een bepaalde leeftijd voor sociale media en een telefoon. Bijv 6 voor een telefoon, 12 voor een mobiele telefoon en 16 voor eem mobiele telefoon met sociale media\n",
      "Positive Vrijheid van meningsuiting moet toegankelijk zijn voor iedereen ongeacht politieke voorkeur\n",
      "Positive Rot op met al die AI bullshit, alle algoritmische verslavings optimalisatie, maak simpele chronologische timelines weer de default, en zorg ervoor dat zoekmachines weer werken! Google is in 2 jaar tijd compleet onbruikbaar geworden nu dat je alleen maar AI antwoorden en AI-generated artikelen krijgt\n",
      "Positive Het beeld vorming over hoe een persoon er uit zou moeten zien\n",
      "Positive Meer privacy, meer gegevens bescherming.  Targetten van potentiele klant gaat wel te makkelijk in mijn ogen_x000D_\n",
      "\n",
      "Positive Winst mechanismen van social media \n"
     ]
    }
   ],
   "source": [
    "for e in df['@digitaal_watkanerbeterr'].to_list():\n",
    "    if analyze_dutch_sentiment(e)['sentiment'] == 'Positive':\n",
    "        print(analyze_dutch_sentiment(e)['sentiment'],e)"
   ]
  },
  {
   "cell_type": "code",
   "execution_count": null,
   "id": "0a64b9ee",
   "metadata": {},
   "outputs": [],
   "source": []
  }
 ],
 "metadata": {
  "kernelspec": {
   "display_name": "Python 3 (ipykernel)",
   "language": "python",
   "name": "python3"
  },
  "language_info": {
   "codemirror_mode": {
    "name": "ipython",
    "version": 3
   },
   "file_extension": ".py",
   "mimetype": "text/x-python",
   "name": "python",
   "nbconvert_exporter": "python",
   "pygments_lexer": "ipython3",
   "version": "3.10.7"
  }
 },
 "nbformat": 4,
 "nbformat_minor": 5
}
